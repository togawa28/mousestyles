{
 "cells": [
  {
   "cell_type": "code",
   "execution_count": 1,
   "metadata": {
    "collapsed": false
   },
   "outputs": [],
   "source": [
    "# Tecott Lab HCM Data\n",
    "# HCMData_begin_script.py\n",
    "# Chris Hillar, Dec 2015 (Tecott Lab: C. Hillar, G. Onnis, D. Rhea, L. Tecott)\n",
    "# \n",
    "# Script for initial foray into HCM 16-Strain Mus musculus multi-modal data set\n",
    "\n",
    "import numpy as np\n",
    "from scipy.cluster.vq import whiten\n",
    "%matplotlib inline\n",
    "\n",
    "from data_utils import day_to_mouse_average, mouse_to_strain_average, total_time_rectangle_bins, pull_locom_tseries_subset, split_data_in_half_randomly\n",
    "# from intervals import Intervals, binary_from_intervals\n",
    "\n",
    "\n",
    "# Data set consists of 1921 Mouse days (22 hours each) from 170 Mice and 16 Strains:\n",
    "strains = {0: 'C57BL6J', 1: 'BALB', 2: 'A', 3: '129S1', 4: 'DBA', 5: 'C3H', \n",
    "    6: 'AKR', 7: 'SWR', 8: 'SJL', 9: 'FVB',10: 'WSB', 11: 'CZECH', 12: 'CAST', 13: 'JF1', 14: 'MOLF', 15: 'SPRET'}\n",
    "strain_colors = [(0.12156862745098039, 0.4666666666666667, 0.7058823529411765), (0.6823529411764706, 0.7803921568627451, 0.9098039215686274), (1.0, 0.4980392156862745, 0.054901960784313725), (1.0, 0.7333333333333333, 0.47058823529411764), (0.17254901960784313, 0.6274509803921569, 0.17254901960784313), (0.596078431372549, 0.8745098039215686, 0.5411764705882353), (0.5803921568627451, 0.403921568627451, 0.7411764705882353), (0.7725490196078432, 0.6901960784313725, 0.8352941176470589), (0.5490196078431373, 0.33725490196078434, 0.29411764705882354), (0.7686274509803922, 0.611764705882353, 0.5803921568627451), (0.4980392156862745, 0.4980392156862745, 0.4980392156862745), (0.7803921568627451, 0.7803921568627451, 0.7803921568627451), (0.7372549019607844, 0.7411764705882353, 0.13333333333333333), (0.8588235294117647, 0.8588235294117647, 0.5529411764705883), (0.09019607843137255, 0.7450980392156863, 0.8117647058823529), (0.6196078431372549, 0.8549019607843137, 0.8980392156862745)]\n",
    "\n",
    "##########################\n",
    "# Main Data Formats:\n",
    "# (1) Features = 9 (feature type) x 1921 (mouse day) x 11 (2 hour time bin) numpy array\n",
    "# (2) Raw Event Arrays of 6 types:\n",
    "events = ['AS', 'F', 'IS', 'M_AS', 'M_IS', 'W']\n",
    "# AS: Active State, F: Food, IS: Inactive State,\n",
    "# M_AS: Move during AS, M_IS: Move during IS, W: Water\n",
    "# with per 24 h breakdown:\n",
    "# Strain: Mouse: Day: Event as a numpy array of dimension\n",
    "#    (number intervals of Event x 2 = (Start, End)) \n",
    "# which will be a disjoint union of intervals [sec]\n",
    "# (3) Raw xyt spatiotemporal Events\n",
    "# Per day: CT, CX, CY, C_idx_HB\n",
    "# numpy arrays of same length (num movement platform events per day)\n",
    "# recordingStartTimeEndTime: start, stop [sec] per day\n",
    "##########################\n",
    "\n",
    "##################################\n",
    "# (1) First pass: 9 Features over 11 Consecutive 2 hour Time bins for each of 1921 Mouse days\n",
    "##################################\n",
    "feat_arr = ['ASProbability', 'ASNumbers', 'ASDurations', 'Food', 'Water', 'Distance', 'ASFoodIntensity', 'ASWaterIntensity', 'MoveASIntensity']\n",
    "feat_arr_units = ['Active state probability', 'Number AS onsets', 'Total time [sec]', 'Food consumed [g]', 'Water consumed [mg]', 'Distance travelled [m]', 'ASFoodIntensity', 'ASWaterIntensity', 'MoveASIntensity [cm/ASsec]']\n",
    "\n",
    "data_orig_master = np.load('data/all_features_mousedays_11bins.npy')  # 9 x 1921 x (3 labels + 11 feature time bins)\n",
    "features = data_orig_master[:, :, 3:]\n",
    "labels = data_orig_master[0, :, 0:3]  # 1st col = strain, 2nd = mouse number, 3rd = day\n"
   ]
  },
  {
   "cell_type": "code",
   "execution_count": 2,
   "metadata": {
    "collapsed": false
   },
   "outputs": [
    {
     "data": {
      "text/plain": [
       "((9, 1921, 14), (9, 1921, 11), (1921, 3))"
      ]
     },
     "execution_count": 2,
     "metadata": {},
     "output_type": "execute_result"
    }
   ],
   "source": [
    "data_orig_master.shape, features.shape, labels.shape"
   ]
  },
  {
   "cell_type": "code",
   "execution_count": 3,
   "metadata": {
    "collapsed": false
   },
   "outputs": [
    {
     "ename": "SyntaxError",
     "evalue": "Missing parentheses in call to 'print' (<ipython-input-3-eeb92ce60872>, line 4)",
     "output_type": "error",
     "traceback": [
      "\u001b[1;36m  File \u001b[1;32m\"<ipython-input-3-eeb92ce60872>\"\u001b[1;36m, line \u001b[1;32m4\u001b[0m\n\u001b[1;33m    print \"Feature %s\" % AS\u001b[0m\n\u001b[1;37m                     ^\u001b[0m\n\u001b[1;31mSyntaxError\u001b[0m\u001b[1;31m:\u001b[0m Missing parentheses in call to 'print'\n"
     ]
    }
   ],
   "source": [
    "# First look at data\n",
    "\n",
    "for AS_i, AS in enumerate(feat_arr):\n",
    "    print \"Feature %s\" % AS\n",
    "    data = features[AS_i]\n",
    "    mice = day_to_mouse_average(features[AS_i], labels)\n",
    "    plt.figure()\n",
    "    for s in xrange(len(strains)):\n",
    "       plt.plot(mice[mice[:, 0] == s, -11:].T, c=strain_colors[s])\n",
    "    plt.plot(mice[:, -11:].mean(axis=0), linewidth=2, c='k')\n",
    "    plt.xlabel('2 h Time bin')\n",
    "    plt.xticks(np.arange(0, 11, 2), np.arange(1, 12, 2), fontsize=12)\n",
    "    plt.ylabel('%s' % feat_arr_units[AS_i])\n",
    "    plt.title('%s feature over time bin for all %d mice' % (AS, len(mice)))\n",
    "plt.show()\n",
    "\n",
    "print \"[== Cross-validated Nearest-Neighbor Classification based on strain averages ==]\"\n",
    "for AS_i, AS in enumerate(feat_arr):\n",
    "    data = features[AS_i]\n",
    "    data = whiten(data)\n",
    "    \n",
    "    test, labels_test, train, labels_train = split_data_in_half_randomly(data, labels)\n",
    "    \n",
    "    mice_train = day_to_mouse_average(train, labels_train)\n",
    "    mice_test = day_to_mouse_average(test, labels_test)\n",
    "\n",
    "    strain_centers = mouse_to_strain_average(mice_train[:, 2:], mice_train[:, 0:2])\n",
    "\n",
    "    tot_cor = 0\n",
    "    for cnt, ms in enumerate(mice_test):\n",
    "        min_dist = np.inf\n",
    "        for k in xrange(strain_centers.shape[0]):\n",
    "            distance = np.sqrt(((strain_centers[k] - ms[2:]) ** 2).sum())\n",
    "            if distance < min_dist:\n",
    "                guess = k\n",
    "                min_dist = distance\n",
    "        if guess == mice_test[cnt, 0]:\n",
    "            tot_cor += 1\n",
    "\n",
    "    tot_cor1 = tot_cor\n",
    "    tot_cor = 0\n",
    "    for cnt, md in enumerate(test):\n",
    "        min_dist = np.inf\n",
    "        for k in xrange(strain_centers.shape[0]):\n",
    "            distance = np.sqrt(((strain_centers[k] - md) ** 2).sum())\n",
    "            if distance < min_dist:\n",
    "                guess = k\n",
    "                min_dist = distance\n",
    "        if guess == labels_test[cnt, 0]:\n",
    "            tot_cor += 1\n",
    "    tot_cor2 = tot_cor\n",
    "\n",
    "    print \"%s: %d/%d [%1.3f] Mice | %d/%d [%1.3f] Mouse days (MDs) classifed correctly\" % (AS, tot_cor1, mice.shape[0], 1. * tot_cor1 / mice.shape[0], tot_cor2, test.shape[0], 1. * tot_cor2 / test.shape[0])\n",
    "\n"
   ]
  },
  {
   "cell_type": "code",
   "execution_count": 4,
   "metadata": {
    "collapsed": false
   },
   "outputs": [
    {
     "data": {
      "text/plain": [
       "<matplotlib.text.Text at 0x7e1cd4a860>"
      ]
     },
     "execution_count": 4,
     "metadata": {},
     "output_type": "execute_result"
    },
    {
     "data": {
      "image/png": "[encoded data removed]",
      "text/plain": [
       "<matplotlib.figure.Figure at 0x7e1cd5f630>"
      ]
     },
     "metadata": {},
     "output_type": "display_data"
    }
   ],
   "source": [
    "import matplotlib.pyplot as plt\n",
    "##################################\n",
    "# (3) Make position density first mouse first day\n",
    "##################################\n",
    "CT = np.load('data/txy_coords/CT/CT_strain0_mouse0_day0.npy')\n",
    "CX = np.load('data/txy_coords/CX/CX_strain0_mouse0_day0.npy')\n",
    "CY = np.load('data/txy_coords/CY/CY_strain0_mouse0_day0.npy')\n",
    "# mask for HB Move Events\n",
    "CT_NHB = np.load('data/txy_coords/C_idx_HB/C_idx_HB_strain0_mouse0_day0.npy')\n",
    "CT_HB = ~ CT_NHB\n",
    "\n",
    "start_time, stop_time = np.load('data/txy_coords/recordingStartTimeEndTime/recordingStartTimeEndTime_strain0_mouse0_day0.npy')\n",
    "\n",
    "# Cage boundaries\n",
    "YLower = 1.0; YUpper = 43.0; XUpper = 3.75; XLower = -16.25\n",
    "xbins = 20; ybins = 40\n",
    "M = np.vstack([CT, CX, CY])\n",
    "pos_subset = pull_locom_tseries_subset(M, start_time, stop_time)\n",
    "bin_times = total_time_rectangle_bins(pos_subset, xlims=(XLower, XUpper), ylims=(YLower, YUpper), xbins=xbins, ybins=ybins)\n",
    "position_pdf = bin_times / bin_times.sum()\n",
    "\n",
    "plt.matshow(position_pdf)\n",
    "plt.title('Cage PDF: 1st Strain, 1st Mouse, 1st Day')\n",
    "plt.xlabel('Cage X discretized coordinate')\n",
    "plt.ylabel('Cage Y discretized coordinate')\n",
    "\n"
   ]
  },
  {
   "cell_type": "code",
   "execution_count": 8,
   "metadata": {
    "collapsed": false
   },
   "outputs": [
    {
     "data": {
      "text/plain": [
       "(39181, 39181, 39181, 39181)"
      ]
     },
     "execution_count": 8,
     "metadata": {},
     "output_type": "execute_result"
    }
   ],
   "source": [
    "len(CT_HB), len(CT), len(CX), len(CY)"
   ]
  },
  {
   "cell_type": "code",
   "execution_count": 38,
   "metadata": {
    "collapsed": false
   },
   "outputs": [
    {
     "data": {
      "text/plain": [
       "0"
      ]
     },
     "execution_count": 38,
     "metadata": {},
     "output_type": "execute_result"
    }
   ],
   "source": [
    "strat_ind[0]"
   ]
  },
  {
   "cell_type": "code",
   "execution_count": 68,
   "metadata": {
    "collapsed": false
   },
   "outputs": [],
   "source": [
    "n = len(CT_HB)\n",
    "start_ind = CT_HB[:n-1] * ( 1 - CT_HB[1:])\n",
    "end_ind = ( 1 - CT_HB[:n-1] ) * CT_HB[1:]\n",
    "start = [i for i in range(len(start_ind)) if start_ind[i]]\n",
    "end = [i+2 for i in range(len(end_ind)) if end_ind[i]]"
   ]
  },
  {
   "cell_type": "code",
   "execution_count": 69,
   "metadata": {
    "collapsed": false
   },
   "outputs": [],
   "source": [
    "path_info = [[start[i], end[i]] for i in range(len(start))]"
   ]
  },
  {
   "cell_type": "code",
   "execution_count": 70,
   "metadata": {
    "collapsed": false
   },
   "outputs": [
    {
     "data": {
      "text/plain": [
       "(152, [[26, 294], [304, 657], [668, 749], [797, 963], [1109, 1187]])"
      ]
     },
     "execution_count": 70,
     "metadata": {},
     "output_type": "execute_result"
    }
   ],
   "source": [
    "len(path_info), path_info[:5]"
   ]
  },
  {
   "cell_type": "code",
   "execution_count": 16,
   "metadata": {
    "collapsed": false
   },
   "outputs": [
    {
     "data": {
      "image/png": "[encoded data removed]",
      "text/plain": [
       "<matplotlib.figure.Figure at 0x1c419ca208>"
      ]
     },
     "metadata": {},
     "output_type": "display_data"
    },
    {
     "data": {
      "image/png": "[encoded data removed]",
      "text/plain": [
       "<matplotlib.figure.Figure at 0x1c419907f0>"
      ]
     },
     "metadata": {},
     "output_type": "display_data"
    }
   ],
   "source": [
    "##################################\n",
    "# (4) plot Move events; distance distribution\n",
    "##################################\n",
    "distances_btwn_events_HB = np.sqrt((CX[CT_HB][1:] - CX[CT_HB][:-1]) ** 2 + (CY[CT_HB][1:] - CY[CT_HB][:-1]) ** 2) [1 : -1]\n",
    "distances_btwn_events_NHB = np.sqrt((CX[CT_NHB][1:] - CX[CT_NHB][:-1]) ** 2 + (CY[CT_NHB][1:] - CY[CT_NHB][:-1]) ** 2)\n",
    "\n",
    "plt.figure()\n",
    "plt.hist(distances_btwn_events_NHB, 200)\n",
    "plt.title('Histogram of distances (Non Home Base)')\n",
    "plt.xlabel('cm')\n",
    "\n",
    "plt.figure()\n",
    "plt.hist(distances_btwn_events_HB, 200)\n",
    "plt.title('Histogram of distances (Home Base)')\n",
    "plt.xlabel('cm')\n",
    "plt.show()\n"
   ]
  }
 ],
 "metadata": {
  "kernelspec": {
   "display_name": "Python 3",
   "language": "python",
   "name": "python3"
  },
  "language_info": {
   "codemirror_mode": {
    "name": "ipython",
    "version": 3
   },
   "file_extension": ".py",
   "mimetype": "text/x-python",
   "name": "python",
   "nbconvert_exporter": "python",
   "pygments_lexer": "ipython3",
   "version": "3.5.1"
  }
 },
 "nbformat": 4,
 "nbformat_minor": 0
}
